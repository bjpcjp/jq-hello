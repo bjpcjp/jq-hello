{
 "cells": [
  {
   "cell_type": "code",
   "execution_count": 1,
   "metadata": {
    "collapsed": false
   },
   "outputs": [
    {
     "name": "stdout",
     "output_type": "stream",
     "text": [
      "\r\n",
      "jq - commandline JSON processor [version 1.3]\r\n",
      "Usage: jq [options] <jq filter> [file...]\r\n",
      "\r\n",
      "For a description of the command line options and\r\n",
      "how to write jq filters (and why you might want to)\r\n",
      "see the jq manpage, or the online documentation at\r\n",
      "http://stedolan.github.com/jq\r\n",
      "\r\n"
     ]
    }
   ],
   "source": [
    "!jq --help"
   ]
  },
  {
   "cell_type": "code",
   "execution_count": 2,
   "metadata": {
    "collapsed": false
   },
   "outputs": [],
   "source": [
    "!curl -sL 'http://en.wikipedia.org/wiki/List_of_countries_and_territories_by_border/area_ratio' > wiki.html"
   ]
  },
  {
   "cell_type": "code",
   "execution_count": 3,
   "metadata": {
    "collapsed": false
   },
   "outputs": [
    {
     "name": "stdout",
     "output_type": "stream",
     "text": [
      "wiki.html\r\n"
     ]
    }
   ],
   "source": [
    "!ls wiki.html"
   ]
  },
  {
   "cell_type": "markdown",
   "metadata": {},
   "source": [
    "#### Display first 79 chars each of the first 10 lines, "
   ]
  },
  {
   "cell_type": "code",
   "execution_count": 4,
   "metadata": {
    "collapsed": false
   },
   "outputs": [
    {
     "name": "stdout",
     "output_type": "stream",
     "text": [
      "<!DOCTYPE html>\r\n",
      "<html class=\"client-nojs\" lang=\"en\" dir=\"ltr\">\r\n",
      "<head>\r\n",
      "<meta charset=\"UTF-8\"/>\r\n",
      "<title>List of countries and territories by border/area ratio - Wikipedia, the \r\n",
      "<script>document.documentElement.className = document.documentElement.className\r\n",
      "<script>(window.RLQ=window.RLQ||[]).push(function(){mw.config.set({\"wgCanonical\r\n",
      "mw.user.tokens.set({\"editToken\":\"+\\\\\",\"patrolToken\":\"+\\\\\",\"watchToken\":\"+\\\\\",\"c\r\n",
      "\r\n",
      "});mw.loader.load([\"mediawiki.page.startup\",\"mediawiki.legacy.wikibits\",\"ext.ce\r\n"
     ]
    }
   ],
   "source": [
    "!head -n 10 wiki.html | cut -c1-79"
   ]
  },
  {
   "cell_type": "markdown",
   "metadata": {},
   "source": [
    "#### Use grep to examine table with class=wikitable. Use -A option to specify #lines after the match."
   ]
  },
  {
   "cell_type": "code",
   "execution_count": 5,
   "metadata": {
    "collapsed": false
   },
   "outputs": [
    {
     "name": "stdout",
     "output_type": "stream",
     "text": [
      "<table class=\"wikitable sortable\">\r\n",
      "<tr>\r\n",
      "<th>Rank</th>\r\n",
      "<th>Country or territory</th>\r\n",
      "<th>Total length of land borders (km)</th>\r\n",
      "<th>Total surface area (km²)</th>\r\n",
      "<th>Border/area ratio (km/km²)</th>\r\n",
      "</tr>\r\n",
      "<tr>\r\n",
      "<td>1</td>\r\n",
      "<td>Vatican City</td>\r\n",
      "<td>3.2</td>\r\n",
      "<td>0.44</td>\r\n",
      "<td>7.2727273</td>\r\n",
      "</tr>\r\n",
      "<tr>\r\n",
      "<td>2</td>\r\n",
      "<td>Monaco</td>\r\n",
      "<td>4.4</td>\r\n",
      "<td>2</td>\r\n",
      "<td>2.2000000</td>\r\n",
      "</tr>\r\n"
     ]
    }
   ],
   "source": [
    "!< wiki.html grep wikitable -A 21 "
   ]
  },
  {
   "cell_type": "markdown",
   "metadata": {},
   "source": [
    "#### Scrape elements"
   ]
  },
  {
   "cell_type": "markdown",
   "metadata": {},
   "source": [
    "#### To install scrape: git clone https://github.com/bjpcjp/data-science-at-the-command-line"
   ]
  },
  {
   "cell_type": "markdown",
   "metadata": {},
   "source": [
    "-e argument = CSS selector syntax"
   ]
  },
  {
   "cell_type": "code",
   "execution_count": 6,
   "metadata": {
    "collapsed": true
   },
   "outputs": [],
   "source": [
    "! < wiki.html coderepo/tools/scrape -b -e\\\n",
    "'table.wikitable > tr:not(:first-child)'\\\n",
    "> table.html "
   ]
  },
  {
   "cell_type": "code",
   "execution_count": 7,
   "metadata": {
    "collapsed": false
   },
   "outputs": [
    {
     "name": "stdout",
     "output_type": "stream",
     "text": [
      "<!DOCTYPE html>\r\n",
      "<html>\r\n",
      "<body>\r\n",
      "<tr>\r\n",
      "<td>1</td>\r\n",
      "<td>Vatican City</td>\r\n",
      "<td>3.2</td>\r\n",
      "<td>0.44</td>\r\n",
      "<td>7.2727273</td>\r\n",
      "</tr>\r\n",
      "\r\n",
      "<tr>\r\n",
      "<td>2</td>\r\n",
      "<td>Monaco</td>\r\n",
      "<td>4.4</td>\r\n",
      "<td>2</td>\r\n",
      "<td>2.2000000</td>\r\n",
      "</tr>\r\n",
      "\r\n",
      "<tr>\r\n",
      "<td>3</td>\r\n"
     ]
    }
   ],
   "source": [
    "!head -n 21 table.html"
   ]
  },
  {
   "cell_type": "markdown",
   "metadata": {},
   "source": [
    "Now we have a dataset where each row = a country/territory. Let's use xml2json for the next step. Install via git clone https://github.com/Inist-CNRS/node-xml2json-command.git\n"
   ]
  },
  {
   "cell_type": "code",
   "execution_count": 8,
   "metadata": {
    "collapsed": false
   },
   "outputs": [],
   "source": [
    "!< table.html xml2json > table.json"
   ]
  },
  {
   "cell_type": "code",
   "execution_count": 9,
   "metadata": {
    "collapsed": false
   },
   "outputs": [
    {
     "name": "stdout",
     "output_type": "stream",
     "text": [
      "{\r\n",
      "  \"html\": {\r\n",
      "    \"body\": {\r\n",
      "      \"tr\": [\r\n",
      "        {\r\n",
      "          \"td\": [\r\n",
      "            {\r\n",
      "              \"$t\": \"1\"\r\n",
      "            },\r\n",
      "            {\r\n"
     ]
    }
   ],
   "source": [
    "!< table.json jq '.' | head -n 10"
   ]
  },
  {
   "cell_type": "code",
   "execution_count": 10,
   "metadata": {
    "collapsed": false
   },
   "outputs": [],
   "source": [
    "!< table.json jq -c '.html.body.tr[] | {country: .td[1][],border:'\\\n",
    "'.td[2][], surface: .td[3][]}' > countries.json"
   ]
  },
  {
   "cell_type": "code",
   "execution_count": 11,
   "metadata": {
    "collapsed": false
   },
   "outputs": [
    {
     "name": "stdout",
     "output_type": "stream",
     "text": [
      "{\"surface\":\"0.44\",\"border\":\"3.2\",\"country\":\"Vatican City\"}\r\n",
      "{\"surface\":\"2\",\"border\":\"4.4\",\"country\":\"Monaco\"}\r\n",
      "{\"surface\":\"61\",\"border\":\"39\",\"country\":\"San Marino\"}\r\n",
      "{\"surface\":\"160\",\"border\":\"76\",\"country\":\"Liechtenstein\"}\r\n",
      "{\"surface\":\"34\",\"border\":\"10.2\",\"country\":\"Sint Maarten (Netherlands)\"}\r\n",
      "{\"surface\":\"468\",\"border\":\"120.3\",\"country\":\"Andorra\"}\r\n",
      "{\"surface\":\"6\",\"border\":\"1.2\",\"country\":\"Gibraltar (United Kingdom)\"}\r\n",
      "{\"surface\":\"54\",\"border\":\"10.2\",\"country\":\"Saint Martin (France)\"}\r\n",
      "{\"surface\":\"2586\",\"border\":\"359\",\"country\":\"Luxembourg\"}\r\n",
      "{\"surface\":\"6220\",\"border\":\"466\",\"country\":\"Palestinian territories\"}\r\n"
     ]
    }
   ],
   "source": [
    "! head -n 10 countries.json"
   ]
  },
  {
   "cell_type": "markdown",
   "metadata": {},
   "source": [
    "#### install json2csv with 'go get https://github.com/jehiah/json2csv'; you'll need to set a GOPATH variable too."
   ]
  },
  {
   "cell_type": "code",
   "execution_count": 12,
   "metadata": {
    "collapsed": false
   },
   "outputs": [
    {
     "name": "stdout",
     "output_type": "stream",
     "text": [
      "/bin/sh: 1: json2csv: not found\r\n"
     ]
    }
   ],
   "source": [
    "!< countries.json json2csv -p -k border,surface > countries.csv"
   ]
  },
  {
   "cell_type": "code",
   "execution_count": null,
   "metadata": {
    "collapsed": true
   },
   "outputs": [],
   "source": []
  }
 ],
 "metadata": {
  "kernelspec": {
   "display_name": "Python [Root]",
   "language": "python",
   "name": "Python [Root]"
  },
  "language_info": {
   "codemirror_mode": {
    "name": "ipython",
    "version": 3
   },
   "file_extension": ".py",
   "mimetype": "text/x-python",
   "name": "python",
   "nbconvert_exporter": "python",
   "pygments_lexer": "ipython3",
   "version": "3.5.2"
  }
 },
 "nbformat": 4,
 "nbformat_minor": 0
}
